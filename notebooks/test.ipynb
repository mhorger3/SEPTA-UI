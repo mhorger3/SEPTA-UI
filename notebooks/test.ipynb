{
 "cells": [
  {
   "cell_type": "code",
   "execution_count": 2,
   "metadata": {},
   "outputs": [
    {
     "name": "stderr",
     "output_type": "stream",
     "text": [
      "Using TensorFlow backend.\n"
     ]
    }
   ],
   "source": [
    "from __future__ import print_function\n",
    "\n",
    "import keras\n",
    "import tensorflow as tf\n",
    "from keras import backend as K\n",
    "from keras.datasets import mnist\n",
    "from keras.layers import Conv2D, MaxPooling2D\n",
    "from keras.layers import Dense, Dropout, Flatten\n",
    "from keras.models import Sequential"
   ]
  },
  {
   "cell_type": "code",
   "execution_count": 3,
   "metadata": {},
   "outputs": [
    {
     "name": "stdout",
     "output_type": "stream",
     "text": [
      "x_train shape: (60000, 28, 28, 1)\n",
      "60000 train samples\n",
      "10000 test samples\n",
      "WARNING:tensorflow:From D:\\Programs\\Anaconda3\\lib\\site-packages\\keras\\backend\\tensorflow_backend.py:4070: The name tf.nn.max_pool is deprecated. Please use tf.nn.max_pool2d instead.\n",
      "\n",
      "WARNING:tensorflow:From D:\\Programs\\Anaconda3\\lib\\site-packages\\keras\\backend\\tensorflow_backend.py:422: The name tf.global_variables is deprecated. Please use tf.compat.v1.global_variables instead.\n",
      "\n",
      "Train on 60000 samples, validate on 10000 samples\n",
      "Epoch 1/12\n",
      "60000/60000 [==============================] - 15s 258us/step - loss: 0.2755 - accuracy: 0.9154 - val_loss: 0.0658 - val_accuracy: 0.9789\n",
      "Epoch 2/12\n",
      "60000/60000 [==============================] - 11s 190us/step - loss: 0.0919 - accuracy: 0.9727 - val_loss: 0.0401 - val_accuracy: 0.9869\n",
      "Epoch 3/12\n",
      "60000/60000 [==============================] - 11s 190us/step - loss: 0.0664 - accuracy: 0.9802 - val_loss: 0.0353 - val_accuracy: 0.9882\n",
      "Epoch 4/12\n",
      "60000/60000 [==============================] - 11s 190us/step - loss: 0.0553 - accuracy: 0.9839 - val_loss: 0.0326 - val_accuracy: 0.9890\n",
      "Epoch 5/12\n",
      "60000/60000 [==============================] - 11s 190us/step - loss: 0.0480 - accuracy: 0.9852 - val_loss: 0.0285 - val_accuracy: 0.9899\n",
      "Epoch 6/12\n",
      "60000/60000 [==============================] - 11s 190us/step - loss: 0.0421 - accuracy: 0.9874 - val_loss: 0.0280 - val_accuracy: 0.9910\n",
      "Epoch 7/12\n",
      "60000/60000 [==============================] - 11s 190us/step - loss: 0.0364 - accuracy: 0.9885 - val_loss: 0.0298 - val_accuracy: 0.9901\n",
      "Epoch 8/12\n",
      "60000/60000 [==============================] - 11s 190us/step - loss: 0.0347 - accuracy: 0.9894 - val_loss: 0.0302 - val_accuracy: 0.9898\n",
      "Epoch 9/12\n",
      "60000/60000 [==============================] - 11s 189us/step - loss: 0.0326 - accuracy: 0.9902 - val_loss: 0.0294 - val_accuracy: 0.9907\n",
      "Epoch 10/12\n",
      "60000/60000 [==============================] - 11s 191us/step - loss: 0.0295 - accuracy: 0.9909 - val_loss: 0.0291 - val_accuracy: 0.9901\n",
      "Epoch 11/12\n",
      "60000/60000 [==============================] - 11s 191us/step - loss: 0.0271 - accuracy: 0.9913 - val_loss: 0.0280 - val_accuracy: 0.9910\n",
      "Epoch 12/12\n",
      "60000/60000 [==============================] - 12s 199us/step - loss: 0.0289 - accuracy: 0.9909 - val_loss: 0.0251 - val_accuracy: 0.9924\n",
      "Test loss: 0.025143522610184665\n",
      "Test accuracy: 0.9923999905586243\n"
     ]
    }
   ],
   "source": [
    "K.tensorflow_backend._get_available_gpus()\n",
    "config = tf.compat.v1.ConfigProto(device_count={'GPU': 1, 'CPU': 4})\n",
    "sess = tf.compat.v1.Session(config=config)\n",
    "keras.backend.set_session(sess)\n",
    "\n",
    "batch_size = 128\n",
    "num_classes = 10\n",
    "epochs = 12\n",
    "\n",
    "# input image dimensions\n",
    "img_rows, img_cols = 28, 28\n",
    "\n",
    "# the data, split between train and test sets\n",
    "(x_train, y_train), (x_test, y_test) = mnist.load_data()\n",
    "\n",
    "if K.image_data_format() == 'channels_first':\n",
    "    x_train = x_train.reshape(x_train.shape[0], 1, img_rows, img_cols)\n",
    "    x_test = x_test.reshape(x_test.shape[0], 1, img_rows, img_cols)\n",
    "    input_shape = (1, img_rows, img_cols)\n",
    "else:\n",
    "    x_train = x_train.reshape(x_train.shape[0], img_rows, img_cols, 1)\n",
    "    x_test = x_test.reshape(x_test.shape[0], img_rows, img_cols, 1)\n",
    "    input_shape = (img_rows, img_cols, 1)\n",
    "\n",
    "x_train = x_train.astype('float32')\n",
    "x_test = x_test.astype('float32')\n",
    "x_train /= 255\n",
    "x_test /= 255\n",
    "print('x_train shape:', x_train.shape)\n",
    "print(x_train.shape[0], 'train samples')\n",
    "print(x_test.shape[0], 'test samples')\n",
    "\n",
    "# convert class vectors to binary class matrices\n",
    "y_train = keras.utils.to_categorical(y_train, num_classes)\n",
    "y_test = keras.utils.to_categorical(y_test, num_classes)\n",
    "\n",
    "model = Sequential()\n",
    "model.add(Conv2D(32, kernel_size=(3, 3),\n",
    "                 activation='relu',\n",
    "                 input_shape=input_shape))\n",
    "model.add(Conv2D(64, (3, 3), activation='relu'))\n",
    "model.add(MaxPooling2D(pool_size=(2, 2)))\n",
    "model.add(Dropout(0.25))\n",
    "model.add(Flatten())\n",
    "model.add(Dense(128, activation='relu'))\n",
    "model.add(Dropout(0.5))\n",
    "model.add(Dense(num_classes, activation='softmax'))\n",
    "\n",
    "model.compile(loss=keras.losses.categorical_crossentropy,\n",
    "              optimizer=keras.optimizers.Adadelta(),\n",
    "              metrics=['accuracy'])\n",
    "\n",
    "model.fit(x_train, y_train,\n",
    "          batch_size=batch_size,\n",
    "          epochs=epochs,\n",
    "          verbose=1,\n",
    "          validation_data=(x_test, y_test))\n",
    "score = model.evaluate(x_test, y_test, verbose=0)\n",
    "print('Test loss:', score[0])\n",
    "print('Test accuracy:', score[1])\n"
   ]
  },
  {
   "cell_type": "code",
   "execution_count": null,
   "metadata": {},
   "outputs": [],
   "source": []
  }
 ],
 "metadata": {
  "kernelspec": {
   "display_name": "Python 3",
   "language": "python",
   "name": "python3"
  },
  "language_info": {
   "codemirror_mode": {
    "name": "ipython",
    "version": 3
   },
   "file_extension": ".py",
   "mimetype": "text/x-python",
   "name": "python",
   "nbconvert_exporter": "python",
   "pygments_lexer": "ipython3",
   "version": "3.7.3"
  }
 },
 "nbformat": 4,
 "nbformat_minor": 2
}
